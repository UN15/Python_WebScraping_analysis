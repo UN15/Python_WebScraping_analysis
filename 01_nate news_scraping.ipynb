{
 "cells": [
  {
   "cell_type": "code",
   "execution_count": 2,
   "id": "ce1658d4",
   "metadata": {},
   "outputs": [
    {
     "name": "stdout",
     "output_type": "stream",
     "text": [
      "======> https://news.nate.com/section?mid=n0600 IT/과학 뉴스 <======\n",
      "//news.nate.com/view/20250408n23156?mid=n0600\n",
      "\"화석서 DNA 추출\"…1만 3천년 전 멸종된 '이것' 되살아났다\n",
      "//news.nate.com/view/20250408n22133?mid=n0600\n",
      "카메라로 옷장 비추며 \"오늘 뭐 입을까?\"…난리 난 갤럭시 S25 新기능\n",
      "//news.nate.com/view/20250408n21738?mid=n0600\n",
      "사람 태워 산속 누빈다…늑대 닮은 日 4족보행 로봇 공개\n",
      "//news.nate.com/view/20250408n16037?mid=n0600\n",
      "스탠포드대 \"美·中 AI 기술격차 사라져…연구·특허는 이미 역전\"\n",
      "//news.nate.com/view/20250408n02528?mid=n0600\n",
      "\"아이폰 17 에어 이렇게 나온다\" 실물 모형 사진 등장 [1일IT템]\n"
     ]
    }
   ],
   "source": [
    "import requests\n",
    "from bs4 import BeautifulSoup\n",
    "\n",
    "section_dict = {'정치':'n0200', '경제':'n0300', '사회':'n0400',\n",
    "                '세계':'n0500', 'IT/과학':'n0600'}\n",
    "\n",
    "def print_news(section_name):\n",
    "    section = section_dict[section_name]\n",
    "    url = f'https://news.nate.com/section?mid={section}'\n",
    "    print(f'======> {url} {section_name} 뉴스 <======')\n",
    "\n",
    "    req_header = {\n",
    "        'user-agent': 'Mozilla/5.0 (Windows NT 10.0; Win64; x64) AppleWebKit/537.36 (KHTML, like Gecko) Chrome/135.0.0.0 Safari/537.36'\n",
    "    }\n",
    "\n",
    "    res = requests.get(url, headers = req_header)\n",
    "    if res.ok:\n",
    "        html = res.text\n",
    "        soup = BeautifulSoup(html, 'html.parser')\n",
    "        for d_tag in soup.select('div.mlt01'):\n",
    "            a_tag = d_tag.find('a')\n",
    "            link = a_tag['href']\n",
    "\n",
    "            h2_tag = d_tag.select_one('span.tb h2.tit')\n",
    "            title = h2_tag.text\n",
    "            print(link)\n",
    "            print(title)\n",
    "    else:\n",
    "        print(f'에러 코드 = {res.status_code}')\n",
    "\n",
    "print_news('IT/과학')"
   ]
  }
 ],
 "metadata": {
  "kernelspec": {
   "display_name": "base",
   "language": "python",
   "name": "python3"
  },
  "language_info": {
   "codemirror_mode": {
    "name": "ipython",
    "version": 3
   },
   "file_extension": ".py",
   "mimetype": "text/x-python",
   "name": "python",
   "nbconvert_exporter": "python",
   "pygments_lexer": "ipython3",
   "version": "3.12.7"
  }
 },
 "nbformat": 4,
 "nbformat_minor": 5
}
