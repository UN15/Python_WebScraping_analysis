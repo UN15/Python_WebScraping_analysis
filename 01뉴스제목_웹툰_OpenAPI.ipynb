{
 "cells": [
  {
   "cell_type": "markdown",
   "id": "eb0bfa44",
   "metadata": {},
   "source": [
    "## 1. 뉴스제목 가져오기\n",
    "* user-agent 요청헤더를 반드시 설정해야 한다."
   ]
  },
  {
   "cell_type": "code",
   "execution_count": 2,
   "id": "f0d27781",
   "metadata": {},
   "outputs": [
    {
     "name": "stdout",
     "output_type": "stream",
     "text": [
      "Name: requests\n",
      "Version: 2.32.3\n",
      "Summary: Python HTTP for Humans.\n",
      "Home-page: https://requests.readthedocs.io\n",
      "Author: Kenneth Reitz\n",
      "Author-email: me@kennethreitz.org\n",
      "License: Apache-2.0\n",
      "Location: c:\\Users\\user\\anaconda3\\Lib\\site-packages\n",
      "Requires: certifi, charset-normalizer, idna, urllib3\n",
      "Required-by: anaconda-catalogs, anaconda-client, anaconda-cloud-auth, anaconda-project, conda, conda-build, conda-repo-cli, conda_package_streaming, cookiecutter, datashader, jupyterlab_server, panel, requests-file, requests-toolbelt, Sphinx, streamlit, tldextract\n",
      "Note: you may need to restart the kernel to use updated packages.\n"
     ]
    }
   ],
   "source": [
    "# requests 라이브러리 설치여부 확인\n",
    "%pip show requests"
   ]
  },
  {
   "cell_type": "code",
   "execution_count": 3,
   "id": "f7798ea8",
   "metadata": {},
   "outputs": [
    {
     "name": "stdout",
     "output_type": "stream",
     "text": [
      "Name: beautifulsoup4\n",
      "Version: 4.12.3\n",
      "Summary: Screen-scraping library\n",
      "Home-page: https://www.crummy.com/software/BeautifulSoup/bs4/\n",
      "Author: \n",
      "Author-email: Leonard Richardson <leonardr@segfault.org>\n",
      "License: MIT License\n",
      "Location: c:\\Users\\user\\anaconda3\\Lib\\site-packages\n",
      "Requires: soupsieve\n",
      "Required-by: conda-build, nbconvert\n",
      "Note: you may need to restart the kernel to use updated packages.\n"
     ]
    }
   ],
   "source": [
    "# beautifulsoup4 라이브러리 설치여부 확인\n",
    "%pip show beautifulsoup4"
   ]
  },
  {
   "cell_type": "code",
   "execution_count": null,
   "id": "bf80a429",
   "metadata": {},
   "outputs": [],
   "source": [
    "# reqeusts, bs4 import 모듈 임포트 사용할거니까 메모리에 적재\n",
    "import requests\n",
    "import bs4\n",
    "# BeautifulSoup 클래스 import\n",
    "from bs4 import BeautifulSoup"
   ]
  },
  {
   "cell_type": "code",
   "execution_count": 8,
   "id": "9788d6ac",
   "metadata": {},
   "outputs": [
    {
     "name": "stdout",
     "output_type": "stream",
     "text": [
      "requests 버전 2.32.3\n",
      "beautifulsoup 버전 4.12.3\n"
     ]
    }
   ],
   "source": [
    "# requests, bs4 버전 확인하기\n",
    "print(f'requests 버전 {requests.__version__}')\n",
    "print(f'beautifulsoup 버전 {bs4.__version__}')"
   ]
  },
  {
   "cell_type": "markdown",
   "id": "ccb91def-cde3-4aeb-b0e5-2e7233500333",
   "metadata": {},
   "source": [
    "### 1. 뉴스 제목 추출하기"
   ]
  },
  {
   "cell_type": "code",
   "execution_count": 27,
   "id": "94c12fd6",
   "metadata": {},
   "outputs": [
    {
     "name": "stdout",
     "output_type": "stream",
     "text": [
      "https://news.naver.com/section/105\n",
      "<Response [200]>\n",
      "<class 'requests.models.Response'>\n",
      "200 True\n",
      "86\n",
      "<class 'bs4.element.ResultSet'>\n",
      "https://n.news.naver.com/mnews/article/119/0002942548 SKT, AI 기반 이상탐지 통합 서비스 개발…IBK기업은행 및 에이닷 적용\n",
      "https://n.news.naver.com/mnews/article/comment/119/0002942548 \n",
      "https://n.news.naver.com/mnews/article/003/0013169598 카카오메이커스, 출범 9년 만에 누적 거래액 1조원 돌파\n",
      "https://n.news.naver.com/mnews/article/comment/003/0013169598 \n",
      "https://n.news.naver.com/mnews/article/032/0003361960 악성 스팸문자, 발송단계에서 ‘X-ray’로 차단한다\n",
      "https://n.news.naver.com/mnews/article/comment/032/0003361960 \n",
      "https://n.news.naver.com/mnews/article/011/0004471411 우주항공청, 우주베키스탄 등과 우주항공 협력 맞손\n",
      "https://n.news.naver.com/mnews/article/comment/011/0004471411 \n",
      "https://n.news.naver.com/mnews/article/421/0008180201 \"생활형 AI 시대 연다\"…뤼튼테크놀로지스 '뤼튼 3.0' 발표\n",
      "https://n.news.naver.com/mnews/article/comment/421/0008180201 \n",
      "https://n.news.naver.com/mnews/article/003/0013169802 신세계아이앤씨, AI 비전 기반 솔루션 확대…\"리테일 AX 시장 공략\"\n",
      "https://n.news.naver.com/mnews/article/comment/003/0013169802 \n",
      "https://n.news.naver.com/mnews/article/029/0002946651 슈퍼박테리아 치료 길 열어…특정 병원균만 사멸\n",
      "https://n.news.naver.com/mnews/article/comment/029/0002946651 \n",
      "https://n.news.naver.com/mnews/article/092/0002369827 리플 \"전 세계 금융 시장, 실물자산 토큰화 중심으로 근본 변화\"\n",
      "https://n.news.naver.com/mnews/article/comment/092/0002369827 \n",
      "https://n.news.naver.com/mnews/article/421/0008180569 에이비엘바이오, '4조 기술이전' 후 첫 공식석상…로드맵 밝힌다\n",
      "https://n.news.naver.com/mnews/article/comment/421/0008180569 \n",
      "https://n.news.naver.com/mnews/article/421/0008180565 \"의료계 제안 논의하자\"…의협, 정부·국회에 '대화의 장' 요구\n",
      "https://n.news.naver.com/mnews/article/comment/421/0008180565 \n",
      "https://n.news.naver.com/mnews/article/081/0003531724 항암제 피하는 암세포 꼼수 발견…악성 폐암도 잡는다\n",
      "https://n.news.naver.com/mnews/article/comment/081/0003531724 \n",
      "https://n.news.naver.com/mnews/article/421/0008180537 뤼튼 \"무료전략으로 생활형 AI 시대 열 것…올해 천만 MAU 목표\"\n",
      "https://n.news.naver.com/mnews/article/comment/421/0008180537 \n",
      "https://n.news.naver.com/mnews/article/032/0003361993 첫 한국계 ‘NASA 우주비행사’ 조니 김, 마침내 지구 궤도로 떠났다\n",
      "https://n.news.naver.com/mnews/article/comment/032/0003361993 \n",
      "https://n.news.naver.com/mnews/article/015/0005116525 질병청, 세계 첫 단백질 재조합 탄저백신 '배리트락스' 상용화\n",
      "https://n.news.naver.com/mnews/article/comment/015/0005116525 \n",
      "https://n.news.naver.com/mnews/article/092/0002369818 트럼프 관세, 세계경제 큰 타격…美中 충돌로 더 증폭\n",
      "https://n.news.naver.com/mnews/article/comment/092/0002369818 \n",
      "https://n.news.naver.com/mnews/article/366/0001067643 [100세 과학] 노년 건강 유지엔 채식보다 육식\n",
      "https://n.news.naver.com/mnews/article/comment/366/0001067643 \n",
      "https://n.news.naver.com/mnews/article/018/0005982461 [사고]스테이블코인 vs CBDC…디지털금융 대세는 어디로?\n",
      "https://n.news.naver.com/mnews/article/comment/018/0005982461 \n",
      "https://n.news.naver.com/mnews/article/021/0002701758 폐암 면역치료 새 전략 찾았다…면역항암 막는 핵심인자 최초로 발견\n",
      "https://n.news.naver.com/mnews/article/comment/021/0002701758 \n",
      "https://n.news.naver.com/mnews/article/092/0002369817 \"갤럭시S26 울트라, 카메라 사양 등 전작과 큰 변화 없다\"\n",
      "https://n.news.naver.com/mnews/article/comment/092/0002369817 \n",
      "https://n.news.naver.com/mnews/article/092/0002369816 구영배 \"위시 살려야\" 주장에 피해자들 분통…\"차라리 처벌 받아라\"\n",
      "https://n.news.naver.com/mnews/article/comment/092/0002369816 \n",
      "https://n.news.naver.com/mnews/article/092/0002369815 관세 폭탄에 스마트폰 공장 美로 옮긴다?…\"가능성 희박\"\n",
      "https://n.news.naver.com/mnews/article/comment/092/0002369815 \n",
      "https://n.news.naver.com/mnews/article/015/0005116508 전국에 딱 500대만 풀린다…'한정판 갤럭시S25'의 정체\n",
      "https://n.news.naver.com/mnews/article/comment/015/0005116508 \n",
      "https://n.news.naver.com/mnews/article/030/0003301337 [6G 코리아] ④ 이통3사, AI-RAN 시장 개척 주도\n",
      "https://n.news.naver.com/mnews/article/comment/030/0003301337 \n",
      "https://n.news.naver.com/mnews/article/015/0005116502 한바이오 \"모유두세포로 탈모 정복하겠다\"\n",
      "https://n.news.naver.com/mnews/article/comment/015/0005116502 \n",
      "https://n.news.naver.com/mnews/article/293/0000065879 뤼튼, 감정 교류도 하는 'AI 비서' 낸다\n",
      "https://n.news.naver.com/mnews/article/comment/293/0000065879 \n",
      "https://n.news.naver.com/mnews/article/092/0002369813 온라인서 예금토큰 결제 지연…9일부터 순차적으로 진행\n",
      "https://n.news.naver.com/mnews/article/comment/092/0002369813 \n",
      "https://n.news.naver.com/mnews/article/030/0003301326 법인 가상자산 투자 허용, 금융 생태계 지각변동 예고...우덕수 블록데몬 아시아 대표 “기관 대상 상품 본격화”\n",
      "https://n.news.naver.com/mnews/article/comment/030/0003301326 \n",
      "https://n.news.naver.com/mnews/article/366/0001067631 美와 AI 격차 좁힌 中…한국은 AI 투자 줄어\n",
      "https://n.news.naver.com/mnews/article/comment/366/0001067631 \n",
      "https://n.news.naver.com/mnews/article/030/0003301320 LS전선, 대한전선 상대 특허 최종 승소…양측 상고 포기\n",
      "https://n.news.naver.com/mnews/article/comment/030/0003301320 \n",
      "https://n.news.naver.com/mnews/article/023/0003898272 사람 태워 산속 누빈다... 늑대 닮은 日 4족보행 로봇 공개\n",
      "https://n.news.naver.com/mnews/article/comment/023/0003898272 \n",
      "https://n.news.naver.com/mnews/article/030/0003301315 삼성전자 시장예상 뛰어넘은 1분기 실적...매출 79조·영업익 6.6조\n",
      "https://n.news.naver.com/mnews/article/comment/030/0003301315 \n",
      "https://n.news.naver.com/mnews/article/421/0008180285 '2인 체제' 방통위 논란 여전…이대로면 '줄소송' 가능성\n",
      "https://n.news.naver.com/mnews/article/comment/421/0008180285 \n",
      "https://n.news.naver.com/mnews/article/015/0005116490 \"영락없는 자녀 목소린데\"…AI 보이스피싱, AI로 방지\n",
      "https://n.news.naver.com/mnews/article/comment/015/0005116490 \n",
      "https://n.news.naver.com/mnews/article/138/0002194264 DDR5 가격 불 붙인 中 CXMT…삼성⋅SK '반사이익' 장기화 기대 [소부장반차장]\n",
      "https://n.news.naver.com/mnews/article/comment/138/0002194264 \n",
      "https://n.news.naver.com/mnews/article/029/0002946687 100년간 해킹 불가… 팬시코인, 세계 최초 `양자암호내성 블록체인 지갑` 승인\n",
      "https://n.news.naver.com/mnews/article/comment/029/0002946687 \n",
      "https://n.news.naver.com/mnews/article/030/0003301302 중소 알뜰폰 '저가형'에 대기업 알뜰폰, '이색 요금제'\n",
      "https://n.news.naver.com/mnews/article/comment/030/0003301302 \n",
      "https://n.news.naver.com/mnews/article/421/0008180265 질병청, 국내 기술로 최초 단백질 탄저백신 개발…'26년 결실'(종합)\n",
      "https://n.news.naver.com/mnews/article/comment/421/0008180265 \n",
      "https://n.news.naver.com/mnews/article/030/0003301301 [IT구루 간담회] AI 에이전트 등 응용분야 육성 전략, 인재양성 패러다임 전환해야\n",
      "https://n.news.naver.com/mnews/article/comment/030/0003301301 \n",
      "https://n.news.naver.com/mnews/article/277/0005574594 \"가구 배치, 옷 코디도 도와준다\"…제미나이 라이브 갤S25 적용\n",
      "https://n.news.naver.com/mnews/article/comment/277/0005574594 \n",
      "https://n.news.naver.com/mnews/article/030/0003301290 매그나칩, DDI 사업 청산…임직원 해고 통보\n",
      "https://n.news.naver.com/mnews/article/comment/030/0003301290 \n",
      "https://n.news.naver.com/mnews/article/009/0005472676 상금 30억원 내건 슈퍼센트, ‘제4회 슈퍼센트 게임 챌린지’ 개최\n",
      "https://n.news.naver.com/mnews/article/comment/009/0005472676 \n",
      "https://n.news.naver.com/mnews/article/584/0000031781 항생제 내성 슈퍼박테리아, 나노입자 결합시켜 열로 제거한다\n",
      "https://n.news.naver.com/mnews/article/comment/584/0000031781 \n",
      "https://n.news.naver.com/mnews/article/366/0001067619 MS가 주목한 韓 스타트업 뤼튼 “전 국민 맞춤형 AI 시대 만든다”\n",
      "https://n.news.naver.com/mnews/article/comment/366/0001067619 \n"
     ]
    }
   ],
   "source": [
    "# IT/과학 뉴스 \n",
    "req_param = {\n",
    "    'sid': 105\n",
    "}\n",
    "# \n",
    "url = 'https://news.naver.com/section/{sid}'.format(**req_param)\n",
    "print(url)\n",
    "\n",
    "# url2 = 'https://news.naver.com/section/105'\n",
    "\n",
    "# 요청 헤더 설정 : 브라우저 정보(사람처럼 보이게 하려고 설정하는 것임)\n",
    "req_header = {\n",
    "    'user-agent':'Mozilla/5.0 (Windows NT 10.0; Win64; x64) AppleWebKit/537.36 (KHTML, like Gecko) Chrome/134.0.0.0 Safari/537.36'    \n",
    "}\n",
    "\n",
    "# requests 의 get() 함수 호출하기 \n",
    "res = requests.get(url, headers = req_header)\n",
    "print(res)\n",
    "print(type(res))\n",
    "print(res.status_code, res.ok)\n",
    "\n",
    "# 응답(response)이 OK 이면\n",
    "if res.ok:\n",
    "    # 응답 (response)에서 text 추출 - source 보기  ()없는 것은 함수가 아니라 프로퍼티임\n",
    "    html = res.text\n",
    "    # print(html)\n",
    "    # BeautifulSoup 객체 생성  \n",
    "    soup = BeautifulSoup(html, 'html.parser')\n",
    "    # print(soup)\n",
    "    # CSS 선택자\n",
    "    #<div class = 'sa_text'><a href = ' '></a></div>\n",
    "    print(len(soup.select(\"div.sa_text a[href*='mnews/article']\")))\n",
    "    # print(soup.select(\"div.sa_text a[href*='mnews/article']\"))\n",
    "    a_tag_list = soup.select(\"div.sa_text a[href*='mnews/article']\")\n",
    "    print(type(a_tag_list))#ResultSet\n",
    "    # print(a_tag_list) #[<a></a>]:ResultSet 객체 <a></a>:Tag 객체\n",
    "    # <a> 태그 리스트 순회하기 \n",
    "    for a_tag in a_tag_list:\n",
    "        title = a_tag.text.strip()#strip 함수 태그 사이의 여백 제거\n",
    "        #href 속성의 값을 가져오기기\n",
    "        link = a_tag['href']\n",
    "        print(link, title) \n",
    "else:   \n",
    "    # 응답(response)이 Error 이면 status code 출력    \n",
    "    print(f'에러 코드 = {res.status_code}')\n"
   ]
  },
  {
   "cell_type": "markdown",
   "id": "45640860-a449-4285-90d7-5f300292b461",
   "metadata": {},
   "source": [
    "### 1.1 뉴스제목 추출하는 함수 선언하기"
   ]
  },
  {
   "cell_type": "code",
   "execution_count": 2,
   "id": "9f2e4ef8",
   "metadata": {},
   "outputs": [
    {
     "name": "stdout",
     "output_type": "stream",
     "text": [
      "=====> https://news.naver.com/section/103 생활/문화 뉴스 <=====\n",
      "<Response [200]>\n",
      "<class 'requests.models.Response'>\n",
      "200 True\n",
      "86\n",
      "<class 'bs4.element.ResultSet'>\n",
      "https://n.news.naver.com/mnews/article/277/0005574695 국립민속박물관 2031년 세종 이전…“한국 넘어 세계 민속 콘텐츠 제공”(종합)\n",
      "https://n.news.naver.com/mnews/article/comment/277/0005574695 \n",
      "https://n.news.naver.com/mnews/article/081/0003531768 32년만 연극 무대 서는 이영애…“드라마에서 보던 이영애와 확실히 다를 것”\n",
      "https://n.news.naver.com/mnews/article/comment/081/0003531768 \n",
      "https://n.news.naver.com/mnews/article/422/0000729145 내일 오후부터 전국 비…곳곳 황사 섞여 내려[날씨]\n",
      "https://n.news.naver.com/mnews/article/comment/422/0000729145 \n",
      "https://n.news.naver.com/mnews/article/015/0005116590 '권교수님' 지드래곤, 카이스트 강단 선다\n",
      "https://n.news.naver.com/mnews/article/comment/015/0005116590 \n",
      "https://n.news.naver.com/mnews/article/016/0002454440 KGM, 사모전환사채 전환 청구 및 자본금 감액 정정 공시\n",
      "https://n.news.naver.com/mnews/article/comment/016/0002454440 \n",
      "https://n.news.naver.com/mnews/article/020/0003626868 푸조 ‘308’ 하이브리드 3990만원부터\n",
      "https://n.news.naver.com/mnews/article/comment/020/0003626868 \n",
      "https://n.news.naver.com/mnews/article/009/0005473060 ‘9년째 불륜’ 홍상수 김민희 부모 됐다...“최근 득남”\n",
      "https://n.news.naver.com/mnews/article/comment/009/0005473060 \n",
      "https://n.news.naver.com/mnews/article/214/0001416923 [날씨] 벚꽃 나들이객 북적‥내일 오후부터 전국 비\n",
      "https://n.news.naver.com/mnews/article/comment/214/0001416923 \n",
      "https://n.news.naver.com/mnews/article/015/0005116767 김민희·홍상수 '부모' 됐다…최근 '득남' 이후 산후조리 중\n",
      "https://n.news.naver.com/mnews/article/comment/015/0005116767 \n",
      "https://n.news.naver.com/mnews/article/296/0000088411 이연복 셰프 “후각 잃어 은퇴 고민”…‘이 병’ 수술 때문?\n",
      "https://n.news.naver.com/mnews/article/comment/296/0000088411 \n",
      "https://n.news.naver.com/mnews/article/082/0001320278 김민희·홍상수 득남\n",
      "https://n.news.naver.com/mnews/article/comment/082/0001320278 \n",
      "https://n.news.naver.com/mnews/article/346/0000090116 영국 국왕, “담배 피우면 입술 찢고, 교수형도”… 이유 뭐였을까?\n",
      "https://n.news.naver.com/mnews/article/comment/346/0000090116 \n",
      "https://n.news.naver.com/mnews/article/422/0000729145 [날씨] 내일 오후부터 전국 비…곳곳 황사 섞여 내려\n",
      "https://n.news.naver.com/mnews/article/comment/422/0000729145 \n",
      "https://n.news.naver.com/mnews/article/016/0002454516 김민희·홍상수 부모됐다…“득남 후 산후조리 중”\n",
      "https://n.news.naver.com/mnews/article/comment/016/0002454516 \n",
      "https://n.news.naver.com/mnews/article/346/0000090114 美 의사, “‘간헐적 단식’이 뇌 젊게해”… 대신 ‘이 만큼’ 지속해야 한다는데?\n",
      "https://n.news.naver.com/mnews/article/comment/346/0000090114 \n",
      "https://n.news.naver.com/mnews/article/449/0000304993 [날씨]내일 전국에 단비…5~20mm\n",
      "https://n.news.naver.com/mnews/article/comment/449/0000304993 \n",
      "https://n.news.naver.com/mnews/article/009/0005473060 ‘9년째 불륜’ 홍상수 김민희 부모 됐다...“최근 득남”\n",
      "https://n.news.naver.com/mnews/article/comment/009/0005473060 \n",
      "https://n.news.naver.com/mnews/article/056/0011927604 [날씨] 대구·경북, 대기 건조·강한 바람…내일 밤~모레 오후 비\n",
      "https://n.news.naver.com/mnews/article/comment/056/0011927604 \n",
      "https://n.news.naver.com/mnews/article/056/0011927568 [날씨] 전북 동부 중심 대기 매우 건조, 내일 오후부터 가끔 비\n",
      "https://n.news.naver.com/mnews/article/comment/056/0011927568 \n",
      "https://n.news.naver.com/mnews/article/031/0000922957 [내일날씨] 모레까지 '단비' 소식…황사 섞여 조심\n",
      "https://n.news.naver.com/mnews/article/comment/031/0000922957 \n",
      "https://n.news.naver.com/mnews/article/056/0011927557 [날씨] 제주 내일도 포근, 큰 일교차 주의…오후부터 ‘봄비’\n",
      "https://n.news.naver.com/mnews/article/comment/056/0011927557 \n",
      "https://n.news.naver.com/mnews/article/056/0011927553 [퇴근길 날씨] 내일 오후부터 전국 봄비…영남 대기 건조\n",
      "https://n.news.naver.com/mnews/article/comment/056/0011927553 \n",
      "https://n.news.naver.com/mnews/article/009/0005473053 “베일 벗겨보니 장난 아니다”...박수갈채 쏟아진 신형 수소전기차, 뭐길래\n",
      "https://n.news.naver.com/mnews/article/comment/009/0005473053 \n",
      "https://n.news.naver.com/mnews/article/346/0000090113 “‘네 가지’ 음식, 꼭 챙기세요”… 건강하게 오래 살 확률 높아져\n",
      "https://n.news.naver.com/mnews/article/comment/346/0000090113 \n",
      "https://n.news.naver.com/mnews/article/015/0005116756 빠니보틀 '뒷광고' 논란에 \"억울…밥 안먹는 이유 위고비\"\n",
      "https://n.news.naver.com/mnews/article/comment/015/0005116756 \n",
      "https://n.news.naver.com/mnews/article/052/0002177334 [날씨] 내일도 따뜻...오후부터 전국 비\n",
      "https://n.news.naver.com/mnews/article/comment/052/0002177334 \n",
      "https://n.news.naver.com/mnews/article/015/0005116755 \"너무 예뻐, 40분 기다렸다\"…MZ·외국인 줄 세운 男 정체 [현장+]\n",
      "https://n.news.naver.com/mnews/article/comment/015/0005116755 \n",
      "https://n.news.naver.com/mnews/article/296/0000088410 빨간색 차 몰며 건강 과시하는 101세 노학자…‘장수 비법 7가지!’\n",
      "https://n.news.naver.com/mnews/article/comment/296/0000088410 \n",
      "https://n.news.naver.com/mnews/article/296/0000088409 50대 여성 연예인들이 이 음식 먹더니...혈당-체중에 어떤 변화가?\n",
      "https://n.news.naver.com/mnews/article/comment/296/0000088409 \n",
      "https://n.news.naver.com/mnews/article/422/0000729129 [날씨] 영남 건조한 대기…내일 전국 대부분 비\n",
      "https://n.news.naver.com/mnews/article/comment/422/0000729129 \n",
      "https://n.news.naver.com/mnews/article/028/0002739928 펨브로리주맙 안 들었던 80% 폐암 환자도 '면역항암치료' 가능해질까? [건강한겨레]\n",
      "https://n.news.naver.com/mnews/article/comment/028/0002739928 \n",
      "https://n.news.naver.com/mnews/article/422/0000729118 [뉴스잇] '건조·강풍' 산불 초비상…내일 전국 곳곳 봄비\n",
      "https://n.news.naver.com/mnews/article/comment/422/0000729118 \n",
      "https://n.news.naver.com/mnews/article/009/0005473042 [단독] “될때까지 한다”...중국서 재미 못 본 현대차, 하이브리드 다시 공략\n",
      "https://n.news.naver.com/mnews/article/comment/009/0005473042 \n",
      "https://n.news.naver.com/mnews/article/006/0000129395 윤석열 파면 결정문, e북 배포에 인기\n",
      "https://n.news.naver.com/mnews/article/comment/006/0000129395 \n",
      "https://n.news.naver.com/mnews/article/661/0000053261 “세계가 먼저 감탄한 정원, 이제 도민의 품으로”.. 생각하는정원, 2025년 ‘정원 방문의 해’  선언\n",
      "https://n.news.naver.com/mnews/article/comment/661/0000053261 \n",
      "https://n.news.naver.com/mnews/article/025/0003432756 준회원들 월 29만원 버는데...회장 업추비 월 2000만원 편성한 음저협\n",
      "https://n.news.naver.com/mnews/article/comment/025/0003432756 \n",
      "https://n.news.naver.com/mnews/article/015/0005116694 '큰손' 中 빠지고 美관세 덮치고…터널 갇힌 글로벌 미술시장\n",
      "https://n.news.naver.com/mnews/article/comment/015/0005116694 \n",
      "https://n.news.naver.com/mnews/article/079/0004011588 맑고 포근 '벚꽃 구경' 좋은 날씨…내일, 모레 전국에 봄비 소식\n",
      "https://n.news.naver.com/mnews/article/comment/079/0004011588 \n",
      "https://n.news.naver.com/mnews/article/469/0000858403 ‘전한길 통편집’ 탄핵 여파에도...넷플릭스 이용자 ‘폭싹’ 늘었수다\n",
      "https://n.news.naver.com/mnews/article/comment/469/0000858403 \n",
      "https://n.news.naver.com/mnews/article/009/0005473012 현대차, 하이브리드로 中 시장 재공략\n",
      "https://n.news.naver.com/mnews/article/comment/009/0005473012 \n",
      "https://n.news.naver.com/mnews/article/662/0000065740 죽을 고비 넘긴 암 생존자…‘이것’ 지켰더니 사망 위험 ‘뚝’\n",
      "https://n.news.naver.com/mnews/article/comment/662/0000065740 \n",
      "https://n.news.naver.com/mnews/article/047/0002469042 '○○맘'이라는 호칭이 문제였구나, 이제야 뒤늦게 깨닫습니다\n",
      "https://n.news.naver.com/mnews/article/comment/047/0002469042 \n",
      "https://n.news.naver.com/mnews/article/662/0000065738 작은 용종이 대장암으로…정기검사가 최선의 예방법\n",
      "https://n.news.naver.com/mnews/article/comment/662/0000065738 \n"
     ]
    }
   ],
   "source": [
    "import requests\n",
    "from bs4 import BeautifulSoup\n",
    "\n",
    "section_dict = {100:'정치',101:'경제',102:'사회',103:'생활/문화',104:'세계',105:'IT/과학'}\n",
    "\n",
    "def print_news(sid):  #print_new(103,'생활/문화') \n",
    "    section = section_dict[sid]\n",
    "    \n",
    "    url = f'https://news.naver.com/section/{sid}'\n",
    "    print(f'=====> {url} {section} 뉴스 <=====')\n",
    "\n",
    "    req_header = {\n",
    "    'user-agent':'Mozilla/5.0 (Windows NT 10.0; Win64; x64) AppleWebKit/537.36 (KHTML, like Gecko) Chrome/134.0.0.0 Safari/537.36'    \n",
    "    }\n",
    "\n",
    "    # requests 의 get() 함수 호출하기 \n",
    "    res = requests.get(url, headers = req_header)\n",
    "    print(res)\n",
    "    print(type(res))\n",
    "    print(res.status_code, res.ok)\n",
    "\n",
    "    # 응답(response)이 OK 이면\n",
    "    if res.ok:\n",
    "        html = res.text\n",
    "        soup = BeautifulSoup(html, 'html.parser')\n",
    "        print(len(soup.select(\"div.sa_text a[href*='mnews/article']\")))\n",
    "        a_tag_list = soup.select(\"div.sa_text a[href*='mnews/article']\")\n",
    "        print(type(a_tag_list))#ResultSet\n",
    "        \n",
    "        for a_tag in a_tag_list:\n",
    "            title = a_tag.text.strip()#strip 함수 태그 사이의 여백 제거\n",
    "            #href 속성의 값을 가져오기기\n",
    "            link = a_tag['href']\n",
    "            print(link, title) \n",
    "    else:   \n",
    "        # 응답(response)이 Error 이면 status code 출력    \n",
    "        print(f'에러 코드 = {res.status_code}')\n",
    "\n",
    "#함수 호출\n",
    "print_news(103)"
   ]
  },
  {
   "cell_type": "code",
   "execution_count": 34,
   "id": "858952c6",
   "metadata": {},
   "outputs": [
    {
     "name": "stdout",
     "output_type": "stream",
     "text": [
      "=====> https://news.naver.com/section/103 생활/문화 뉴스 <=====\n"
     ]
    }
   ],
   "source": [
    "print_news(103)"
   ]
  },
  {
   "cell_type": "markdown",
   "id": "323196dc",
   "metadata": {},
   "source": [
    "### 2. Image 다운로드\n",
    "* referer 요청 헤더를 반드시 설정해야 한다."
   ]
  },
  {
   "cell_type": "code",
   "execution_count": 6,
   "id": "c72d6cb1",
   "metadata": {},
   "outputs": [
    {
     "name": "stdout",
     "output_type": "stream",
     "text": [
      "Writing to 20220804112251_d97bd1e1b38f0cd022e4e3639d2926b3_IMAG01_1.jpg(299,319 bytes)\n",
      "Writing to 20220804112251_d97bd1e1b38f0cd022e4e3639d2926b3_IMAG01_2.jpg(163,333 bytes)\n",
      "Writing to 20220804112251_d97bd1e1b38f0cd022e4e3639d2926b3_IMAG01_3.jpg(182,530 bytes)\n"
     ]
    }
   ],
   "source": [
    "import requests\n",
    "import os\n",
    "\n",
    "req_header = {\n",
    "    'referer':'https://comic.naver.com/webtoon/detail?titleId=798173&no=5&amp;weekday=thu'\n",
    "}\n",
    "\n",
    "img_urls = [\n",
    "    'https://image-comic.pstatic.net/webtoon/798173/5/20220804112251_d97bd1e1b38f0cd022e4e3639d2926b3_IMAG01_1.jpg',\n",
    "    'https://image-comic.pstatic.net/webtoon/798173/5/20220804112251_d97bd1e1b38f0cd022e4e3639d2926b3_IMAG01_2.jpg',\n",
    "    'https://image-comic.pstatic.net/webtoon/798173/5/20220804112251_d97bd1e1b38f0cd022e4e3639d2926b3_IMAG01_3.jpg'\n",
    "]\n",
    "\n",
    "for img_url in img_urls:\n",
    "    # requests 의 get(url, headers) 함수 호출하기 \n",
    "    #요청 헤더가 없으면 이미지 절대 경로가 있다고 해도 가져오질 못함 근원지가 어디인지 설정해줘야 함\n",
    "    res = requests.get(img_url, headers = req_header)\n",
    "    if res.ok:\n",
    "        # binary 응답 데이터 가져오기 content 프로퍼티 사용\n",
    "        img_data = res.content\n",
    "        # url에서 파일명만 추출하기\n",
    "        file_name = os.path.basename(img_url)\n",
    "        # binday data를 file에 write하기\n",
    "        with open(file_name, 'wb') as file:\n",
    "            print(f'Writing to {file_name}({len(img_data):,} bytes)')\n",
    "            file.write(img_data)"
   ]
  },
  {
   "cell_type": "markdown",
   "id": "e8b00a04",
   "metadata": {},
   "source": [
    "* 현재 요청된 페이지의 image 모두 다운로드 해보기"
   ]
  },
  {
   "cell_type": "code",
   "execution_count": null,
   "id": "b30f7bf5",
   "metadata": {},
   "outputs": [],
   "source": [
    "import requests\n",
    "from bs4 import BeautifulSoup\n",
    "\n",
    "url = 'https://comic.naver.com/webtoon/detail?titleId=833255&no=35&week=tue'\n",
    "req_header = {\n",
    "    'referer':url\n",
    "}\n",
    "res = requests.get(url)\n",
    "if res.ok:\n",
    "    #jpg 파일의 절대경로 url을 찾기\n",
    "    soup = BeautifulSoup(res.text, 'html.parser')\n",
    "else:\n",
    "    print(f'Error Code = {res.status_code}')"
   ]
  },
  {
   "cell_type": "markdown",
   "id": "2ac9f5f9",
   "metadata": {},
   "source": [
    "### 3. 파일 업로드 하기\n",
    "* http://httpbin.org/post 업로드 요청을 할 수 있는 url"
   ]
  },
  {
   "cell_type": "code",
   "execution_count": null,
   "id": "04da4790",
   "metadata": {},
   "outputs": [
    {
     "name": "stdout",
     "output_type": "stream",
     "text": [
      "200\n"
     ]
    }
   ],
   "source": [
    "import requests\n",
    "\n",
    "upload_files = {\n",
    "    \n",
    "}\n",
    "#print(upload_files)\n",
    "\n",
    "url = 'http://httpbin.org/post'\n",
    "# file 업로드 하려면 requests의 post 함수에 files 속성을 사용합니다.\n",
    "\n"
   ]
  },
  {
   "cell_type": "markdown",
   "id": "7ad65f12",
   "metadata": {},
   "source": [
    "### 4. 캡챠(이미지) API 호출하기\n",
    "* urllib 사용\n",
    "* 1. 캡차 키 발급 요청\n",
    "  2. 캡차 이미지 요청\n",
    "  3. 사용자 입력값 검증 요청"
   ]
  },
  {
   "cell_type": "code",
   "execution_count": 2,
   "id": "bc4ae360-e772-4873-8642-d3494edd34e1",
   "metadata": {},
   "outputs": [],
   "source": [
    "# 캡차 키 발급 요청\n"
   ]
  },
  {
   "cell_type": "code",
   "execution_count": 1,
   "id": "7b95b6a0-c218-4792-82a6-da4d80872071",
   "metadata": {},
   "outputs": [],
   "source": [
    "# 캡차 이미지 요청\n"
   ]
  },
  {
   "cell_type": "code",
   "execution_count": 3,
   "id": "a79076af-2cd0-4de2-8301-316b9130c55e",
   "metadata": {},
   "outputs": [],
   "source": [
    "#  사용자 입력값 검증 요청\n",
    "\n"
   ]
  },
  {
   "cell_type": "markdown",
   "id": "b7d984a6",
   "metadata": {},
   "source": [
    "* requests를 사용하는 코드로 변경하기\n",
    "* [requests docs](https://requests.readthedocs.io/en/latest/user/quickstart/)"
   ]
  },
  {
   "cell_type": "code",
   "execution_count": null,
   "id": "727b427b",
   "metadata": {
    "scrolled": true
   },
   "outputs": [
    {
     "name": "stdout",
     "output_type": "stream",
     "text": [
      "Error Code: 403\n"
     ]
    }
   ],
   "source": [
    "# 사용자 입력값 검증 요청\n",
    "\n"
   ]
  },
  {
   "cell_type": "markdown",
   "id": "d5e1179a",
   "metadata": {},
   "source": [
    "### 5. 블로그 검색하기"
   ]
  },
  {
   "cell_type": "code",
   "execution_count": null,
   "id": "877d0c7f",
   "metadata": {},
   "outputs": [],
   "source": [
    "import requests\n",
    "import pprint\n",
    "\n",
    "headers = {\n",
    "    'X-Naver-Client-Id': '',\n",
    "    'X-Naver-Client-Secret': '',\n",
    "}\n",
    "\n",
    "payload = {\n",
    "    'query': '파이썬',\n",
    "    'display': 100,\n",
    "    'sort': 'sim'\n",
    "}\n",
    "\n",
    "url = 'https://openapi.naver.com/v1/search/blog.json'\n",
    "\n",
    "\n",
    "# requests get(url, params, headers) 요청 \n",
    "\n",
    "# json() 함수로 응답 결과 가져오오기\n",
    "# 'title' , 'bloggername' , 'description' , 'bloggerlink' , 'link'\n",
    "\n",
    "# 'data/nhnblog.txt' 파일 생성하기\n"
   ]
  }
 ],
 "metadata": {
  "kernelspec": {
   "display_name": "base",
   "language": "python",
   "name": "python3"
  },
  "language_info": {
   "codemirror_mode": {
    "name": "ipython",
    "version": 3
   },
   "file_extension": ".py",
   "mimetype": "text/x-python",
   "name": "python",
   "nbconvert_exporter": "python",
   "pygments_lexer": "ipython3",
   "version": "3.12.7"
  }
 },
 "nbformat": 4,
 "nbformat_minor": 5
}
