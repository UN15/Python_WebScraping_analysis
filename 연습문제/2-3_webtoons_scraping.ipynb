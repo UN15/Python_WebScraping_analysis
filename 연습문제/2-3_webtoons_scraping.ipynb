{
 "cells": [
  {
   "cell_type": "code",
   "execution_count": null,
   "id": "0791196a",
   "metadata": {},
   "outputs": [
    {
     "name": "stdout",
     "output_type": "stream",
     "text": [
      "[]\n"
     ]
    }
   ],
   "source": [
    "import requests\n",
    "from bs4 import BeautifulSoup\n",
    "import os\n",
    "from pathlib import Path\n",
    "\n",
    "def download_one_episode(title,no,url):\n",
    "    \n",
    "    req_header = {'referer': url}\n",
    "    \n",
    "    res = requests.get(url)\n",
    "    print(res.ok)\n",
    "    if res.ok:\n",
    "        soup = BeautifulSoup(res.text, 'html.parser')\n",
    "               \n",
    "        img_tags = soup.select(\"img[src*='IMAG01']\")\n",
    "        imgurl_list = [img['src'] for img in img_tags]\n",
    "        print(len(imgurl_list))\n",
    "        \n",
    "        save_dir = Path('img') / title / str(no)\n",
    "        save_dir.mkdir(parents=True, exist_ok=True)\n",
    "\n",
    "        for idx,img_url in enumerate(imgurl_list,1):\n",
    "            res = requests.get(img_url,headers=req_header)\n",
    "            res.raise_for_status()\n",
    "\n",
    "            file_name = Path(img_url).name\n",
    "            save_path = save_dir / file_name\n",
    "            save_path.write_bytes(res.content)\n",
    "            print(f'다운로드 완료: {save_path} ({save_path.stat().st_size:,} bytes)')\n"
   ]
  },
  {
   "cell_type": "code",
   "execution_count": 1,
   "id": "808c6ae5",
   "metadata": {},
   "outputs": [
    {
     "name": "stdout",
     "output_type": "stream",
     "text": [
      "200\n",
      "https://comic.naver.com/webtoon/detail?titleId=826419&no=46\n",
      "https://comic.naver.com/webtoon/detail?titleId=826419&no=45\n",
      "https://comic.naver.com/webtoon/detail?titleId=826419&no=44\n",
      "https://comic.naver.com/webtoon/detail?titleId=826419&no=43\n",
      "https://comic.naver.com/webtoon/detail?titleId=826419&no=42\n",
      "https://comic.naver.com/webtoon/detail?titleId=826419&no=41\n",
      "https://comic.naver.com/webtoon/detail?titleId=826419&no=40\n",
      "https://comic.naver.com/webtoon/detail?titleId=826419&no=39\n",
      "https://comic.naver.com/webtoon/detail?titleId=826419&no=38\n",
      "https://comic.naver.com/webtoon/detail?titleId=826419&no=37\n",
      "https://comic.naver.com/webtoon/detail?titleId=826419&no=36\n",
      "https://comic.naver.com/webtoon/detail?titleId=826419&no=35\n",
      "https://comic.naver.com/webtoon/detail?titleId=826419&no=34\n",
      "https://comic.naver.com/webtoon/detail?titleId=826419&no=33\n",
      "https://comic.naver.com/webtoon/detail?titleId=826419&no=32\n",
      "https://comic.naver.com/webtoon/detail?titleId=826419&no=31\n",
      "https://comic.naver.com/webtoon/detail?titleId=826419&no=30\n",
      "https://comic.naver.com/webtoon/detail?titleId=826419&no=29\n",
      "https://comic.naver.com/webtoon/detail?titleId=826419&no=28\n",
      "https://comic.naver.com/webtoon/detail?titleId=826419&no=27\n"
     ]
    }
   ],
   "source": [
    "import requests\n",
    "from bs4 import BeautifulSoup\n",
    "from pprint import pprint\n",
    "from urllib.parse import urlparse, parse_qs\n",
    "\n",
    "def download_all_episode(title,episode_url):\n",
    "    #url 을 파싱해서 titleId를 알아내기\n",
    "    parsed_url = urlparse(episode_url)\n",
    "    query_params = parse_qs(parsed_url.query) #딕셔너리 값은 리스트로 ex) {'query': ['python'], 'lang': ['ko']}\n",
    "    title_id = query_params.get('titleId', [''])[0] #'titleId'가 존재하지 않을 경우 기본값으로 [''](빈 리스트)를 반환하도록 설정\n",
    "\n",
    "    api_url = f'https://comic.naver.com/api/article/list?titleId={title_id}&page=1'\n",
    "               #https://comic.naver.com/webtoon/detail?titleId=826419&no=46\n",
    "    res = requests.get(api_url)\n",
    "    print(res.status_code)    \n",
    "    if res.ok:\n",
    "        #pprint(res.json()['articleList'])\n",
    "        for article in res.json()['articleList']:\n",
    "            no = article['no']\n",
    "            detail_url = f'https://comic.naver.com/webtoon/detail?titleId={title_id}&no={no}'\n",
    "            print(detail_url)\n",
    "        \n",
    "\n",
    "if __name__ == '__main__': \n",
    "    download_all_episode('롤플레잉','https://comic.naver.com/webtoon/list?titleId=826419')"
   ]
  },
  {
   "cell_type": "code",
   "execution_count": null,
   "id": "d256b17e",
   "metadata": {},
   "outputs": [],
   "source": [
    "from urllib.parse import urlparse, parse_qs\n",
    "\n",
    "\"\"\"url에 titleId를 반환하는 함수\"\"\"\n",
    "def get_title_id(url):\n",
    "    parsed_url = urlparse(url)\n",
    "    query_params = parse_qs(parsed_url.query)\n",
    "    title_id = query_params.get('titleId', [''])[0]\n",
    "    return title_id\n",
    "\n",
    "#테스트 하기\n",
    "url = 'https://comic.naver.com/webtoon/list?titleId=826419'\n",
    "print(get_title_id(url))  # 출력: 826419"
   ]
  },
  {
   "cell_type": "code",
   "execution_count": 2,
   "id": "5dfcde99",
   "metadata": {},
   "outputs": [
    {
     "name": "stdout",
     "output_type": "stream",
     "text": [
      "총 49개의 항목을 20개씩 출력할 때 필요한 페이지 수: 3\n"
     ]
    }
   ],
   "source": [
    "def calculate_pages(total_items, items_per_page=20):\n",
    "    \"\"\"총 페이지 수 계산 함수\"\"\"\n",
    "    return (total_items + items_per_page - 1) // items_per_page\n",
    "\n",
    "# 예제 사용\n",
    "total_items = 49\n",
    "items_per_page = 20\n",
    "\n",
    "total_pages = calculate_pages(total_items, items_per_page)\n",
    "print(f\"총 {total_items}개의 항목을 {items_per_page}개씩 출력할 때 필요한 페이지 수: {total_pages}\")\n",
    "# 출력: 총 49개의 항목을 20개씩 출력할 때 필요한 페이지 수: 3"
   ]
  },
  {
   "cell_type": "code",
   "execution_count": null,
   "id": "29548d99",
   "metadata": {},
   "outputs": [],
   "source": [
    "import requests\n",
    "\n",
    "def download_all_episode(title,episode_url):\n",
    "    title_id = get_title_id(episode_url)\n",
    "\n",
    "    ajax_url = f'https://comic.naver.com/api/article/list?titleId={title_id}'               \n",
    "    res = requests.get(ajax_url)\n",
    "\n",
    "    if res.ok:\n",
    "        total_count = res.json()['totalCount']\n",
    "        for count in range(calculate_pages(total_count)):\n",
    "            #count 변수 0,1,2 // page 번호는 1,2,3\n",
    "            page = count + 1\n",
    "            req_param = { \"page\": page}\n",
    "            print(req_param)\n",
    "            res = requests.get(ajax_url, params=req_param)\n",
    "            for article in res.json()['articleList']:\n",
    "                no = article['no']\n",
    "                detail_url = f'https://comic.naver.com/webtoon/detail?titleId={title_id}&no={no}'\n",
    "                print(detail_url)\n",
    "        \n",
    "\n",
    "if __name__ == '__main__': \n",
    "    download_all_episode('롤플레잉','https://comic.naver.com/webtoon/list?titleId=826419')"
   ]
  },
  {
   "cell_type": "code",
   "execution_count": null,
   "id": "c2be84af",
   "metadata": {},
   "outputs": [],
   "source": [
    "import requests\n",
    "from time import sleep\n",
    "\n",
    "def download_all_episode(title,episode_url):\n",
    "    title_id = get_title_id(episode_url)\n",
    "\n",
    "    ajax_url = f'https://comic.naver.com/api/article/list?titleId={title_id}'               \n",
    "    res = requests.get(ajax_url)\n",
    "\n",
    "    if res.ok:\n",
    "        total_count = res.json()['totalCount']\n",
    "        for count in range(calculate_pages(total_count)):\n",
    "            page = count + 1\n",
    "            req_param = { \"page\": page}\n",
    "            print(req_param)\n",
    "            res = requests.get(ajax_url, params=req_param)\n",
    "            for article in res.json()['articleList']:\n",
    "                no = article['no']\n",
    "                detail_url = f'https://comic.naver.com/webtoon/detail?titleId={title_id}&no={no}'\n",
    "                print(detail_url)\n",
    "                download_one_episode(title,no,detail_url)\n",
    "                #0.5초간 프로세스를 중지함, 기계가 아니라 사람처럼 보이게 하려고\n",
    "                sleep(0.5)\n",
    "\n",
    "if __name__ == '__main__': \n",
    "    #download_all_episode('롤플레잉','https://comic.naver.com/webtoon/list?titleId=826419')\n",
    "    download_all_episode('냉동무사','https://comic.naver.com/webtoon/list?titleId=836370')"
   ]
  }
 ],
 "metadata": {
  "kernelspec": {
   "display_name": "base",
   "language": "python",
   "name": "python3"
  },
  "language_info": {
   "codemirror_mode": {
    "name": "ipython",
    "version": 3
   },
   "file_extension": ".py",
   "mimetype": "text/x-python",
   "name": "python",
   "nbconvert_exporter": "python",
   "pygments_lexer": "ipython3",
   "version": "3.12.7"
  }
 },
 "nbformat": 4,
 "nbformat_minor": 5
}
