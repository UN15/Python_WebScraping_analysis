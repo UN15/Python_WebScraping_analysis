{
 "cells": [
  {
   "cell_type": "code",
   "execution_count": 1,
   "id": "ce1658d4",
   "metadata": {},
   "outputs": [
    {
     "name": "stdout",
     "output_type": "stream",
     "text": [
      "======> https://news.nate.com/section?mid=n0600 IT/과학 뉴스 <======\n",
      "//news.nate.com/view/20250409n04317?mid=n0600\n",
      "\"야간 근무자 심혈관질환 위험, 낮에만 식사하면 낮출 수 있어\"\n",
      "//news.nate.com/view/20250409n04720?mid=n0600\n",
      "\"아이폰 곧 300만원\" 미국서 패닉바잉…애플 시총 1150조 녹았다\n",
      "//news.nate.com/view/20250409n02925?mid=n0600\n",
      "딥시크의 공습…미·중 AI 격차 확 줄었다\n",
      "//news.nate.com/view/20250409n03053?mid=n0600\n",
      "사람 태우고 산에서 말처럼 달린다…일본 네발로봇, 엑스포서 공개\n",
      "//news.nate.com/view/20250409n04263?mid=n0600\n",
      "\"당신한테는 이 옷이 어울려요\"…갤럭시에 도입된 시각AI, 뭐길래\n"
     ]
    }
   ],
   "source": [
    "import requests\n",
    "from bs4 import BeautifulSoup\n",
    "\n",
    "section_dict = {'정치':'n0200', '경제':'n0300', '사회':'n0400',\n",
    "                '세계':'n0500', 'IT/과학':'n0600'}\n",
    "\n",
    "def print_news(section_name):\n",
    "    section = section_dict[section_name]\n",
    "    url = f'https://news.nate.com/section?mid={section}'\n",
    "    print(f'======> {url} {section_name} 뉴스 <======')\n",
    "\n",
    "    req_header = {\n",
    "        'user-agent': 'Mozilla/5.0 (Windows NT 10.0; Win64; x64) AppleWebKit/537.36 (KHTML, like Gecko) Chrome/135.0.0.0 Safari/537.36'\n",
    "    }\n",
    "\n",
    "    res = requests.get(url, headers = req_header)\n",
    "    if res.ok:\n",
    "        html = res.text\n",
    "        soup = BeautifulSoup(html, 'html.parser')\n",
    "        for d_tag in soup.select('div.mlt01'):\n",
    "            a_tag = d_tag.find('a')\n",
    "            link = a_tag['href']\n",
    "\n",
    "            h2_tag = d_tag.select_one('span.tb h2.tit')\n",
    "            title = h2_tag.text\n",
    "            print(link)\n",
    "            print(title)\n",
    "    else:\n",
    "        print(f'에러 코드 = {res.status_code}')\n",
    "\n",
    "print_news('IT/과학')"
   ]
  }
 ],
 "metadata": {
  "kernelspec": {
   "display_name": "base",
   "language": "python",
   "name": "python3"
  },
  "language_info": {
   "codemirror_mode": {
    "name": "ipython",
    "version": 3
   },
   "file_extension": ".py",
   "mimetype": "text/x-python",
   "name": "python",
   "nbconvert_exporter": "python",
   "pygments_lexer": "ipython3",
   "version": "3.12.7"
  }
 },
 "nbformat": 4,
 "nbformat_minor": 5
}
