{
 "cells": [
  {
   "cell_type": "code",
   "execution_count": null,
   "id": "dc32f768",
   "metadata": {},
   "outputs": [
    {
     "name": "stdout",
     "output_type": "stream",
     "text": [
      "Writing to img/낢이사는이야기/48\\20250310103947_792197c569e377c7f369fe9d6f2bd961_IMAG01_1.jpg(166,289 bytes)\n",
      "Writing to img/낢이사는이야기/48\\20250310103947_792197c569e377c7f369fe9d6f2bd961_IMAG01_2.jpg(117,581 bytes)\n",
      "Writing to img/낢이사는이야기/48\\20250310103947_792197c569e377c7f369fe9d6f2bd961_IMAG01_3.jpg(175,647 bytes)\n",
      "Writing to img/낢이사는이야기/48\\20250310103947_792197c569e377c7f369fe9d6f2bd961_IMAG01_4.jpg(140,295 bytes)\n",
      "Writing to img/낢이사는이야기/48\\20250310103947_792197c569e377c7f369fe9d6f2bd961_IMAG01_5.jpg(115,277 bytes)\n",
      "Writing to img/낢이사는이야기/48\\20250310103947_792197c569e377c7f369fe9d6f2bd961_IMAG01_6.jpg(86,840 bytes)\n",
      "Writing to img/낢이사는이야기/48\\20250310103947_792197c569e377c7f369fe9d6f2bd961_IMAG01_7.jpg(151,280 bytes)\n",
      "Writing to img/낢이사는이야기/48\\20250310103947_792197c569e377c7f369fe9d6f2bd961_IMAG01_8.jpg(146,198 bytes)\n",
      "Writing to img/낢이사는이야기/48\\20250310103947_792197c569e377c7f369fe9d6f2bd961_IMAG01_9.jpg(86,460 bytes)\n",
      "Writing to img/낢이사는이야기/48\\20250310103947_792197c569e377c7f369fe9d6f2bd961_IMAG01_10.jpg(152,631 bytes)\n",
      "Writing to img/낢이사는이야기/48\\20250310103947_792197c569e377c7f369fe9d6f2bd961_IMAG01_11.jpg(236,174 bytes)\n",
      "Writing to img/낢이사는이야기/48\\20250310103947_792197c569e377c7f369fe9d6f2bd961_IMAG01_12.jpg(218,403 bytes)\n",
      "Writing to img/낢이사는이야기/48\\20250310103947_792197c569e377c7f369fe9d6f2bd961_IMAG01_13.jpg(126,874 bytes)\n",
      "Writing to img/낢이사는이야기/48\\20250310103947_792197c569e377c7f369fe9d6f2bd961_IMAG01_14.jpg(169,822 bytes)\n",
      "Writing to img/낢이사는이야기/48\\20250310103947_792197c569e377c7f369fe9d6f2bd961_IMAG01_15.jpg(100,097 bytes)\n",
      "Writing to img/낢이사는이야기/48\\20250310103947_792197c569e377c7f369fe9d6f2bd961_IMAG01_16.jpg(138,348 bytes)\n",
      "Writing to img/낢이사는이야기/48\\20250310103947_792197c569e377c7f369fe9d6f2bd961_IMAG01_17.jpg(136,580 bytes)\n",
      "Writing to img/낢이사는이야기/48\\20250310103947_792197c569e377c7f369fe9d6f2bd961_IMAG01_18.jpg(127,154 bytes)\n",
      "Writing to img/낢이사는이야기/48\\20250310103947_792197c569e377c7f369fe9d6f2bd961_IMAG01_19.jpg(155,183 bytes)\n",
      "Writing to img/낢이사는이야기/48\\20250310103947_792197c569e377c7f369fe9d6f2bd961_IMAG01_20.jpg(175,333 bytes)\n",
      "Writing to img/낢이사는이야기/48\\20250310103947_792197c569e377c7f369fe9d6f2bd961_IMAG01_21.jpg(108,840 bytes)\n",
      "Writing to img/낢이사는이야기/48\\20250310103947_792197c569e377c7f369fe9d6f2bd961_IMAG01_22.jpg(107,072 bytes)\n",
      "Writing to img/낢이사는이야기/48\\20250310103947_792197c569e377c7f369fe9d6f2bd961_IMAG01_23.jpg(9,392 bytes)\n"
     ]
    }
   ],
   "source": [
    "import requests\n",
    "from bs4 import BeautifulSoup\n",
    "import os\n",
    "\n",
    "def download_one_episode(title,no,url):\n",
    "    req_header = {\n",
    "        'referer':url\n",
    "    }\n",
    "    res = requests.get(url)\n",
    "    if res.ok:\n",
    "        soup = BeautifulSoup(res.text, 'html.parser')\n",
    "        img_tags = soup.select(\"img[src*='IMAG01']\")\n",
    "\n",
    "        img_url_list = list()\n",
    "        for img_tag in img_tags:\n",
    "            img_src = img_tag['src']\n",
    "            img_url_list.append(img_src)\n",
    "        \n",
    "        imgdir_name = f'img/{title}/{no}'\n",
    "        os.makedirs(imgdir_name, exist_ok=True)\n",
    "\n",
    "        for img_url in img_url_list:\n",
    "            res = requests.get(img_url, headers = req_header)\n",
    "            if res.ok:\n",
    "                img_data = res.content\n",
    "                file_name = os.path.basename(img_url)\n",
    "                file_path = os.path.join(imgdir_name, file_name)\n",
    "                with open(file_path, 'wb') as file:\n",
    "                    # print(f'Writing to {file_path}({len(img_data):,} bytes)')\n",
    "                    file.write(img_data)\n",
    "            else:\n",
    "                print(f'Error code = {res.status_code}')\n",
    "    \n",
    "    else:\n",
    "        print(f'Error code = {res.status_code}')\n",
    "\n",
    "download_one_episode('낢이사는이야기',48,'https://comic.naver.com/webtoon/detail?titleId=833255&no=49&week=tue')"
   ]
  }
 ],
 "metadata": {
  "kernelspec": {
   "display_name": "base",
   "language": "python",
   "name": "python3"
  },
  "language_info": {
   "codemirror_mode": {
    "name": "ipython",
    "version": 3
   },
   "file_extension": ".py",
   "mimetype": "text/x-python",
   "name": "python",
   "nbconvert_exporter": "python",
   "pygments_lexer": "ipython3",
   "version": "3.12.7"
  }
 },
 "nbformat": 4,
 "nbformat_minor": 5
}
